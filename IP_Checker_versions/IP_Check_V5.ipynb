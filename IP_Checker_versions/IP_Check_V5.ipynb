{
 "metadata": {
  "language_info": {
   "codemirror_mode": {
    "name": "ipython",
    "version": 3
   },
   "file_extension": ".py",
   "mimetype": "text/x-python",
   "name": "python",
   "nbconvert_exporter": "python",
   "pygments_lexer": "ipython3",
   "version": "3.9.2"
  },
  "orig_nbformat": 4,
  "kernelspec": {
   "name": "python3",
   "display_name": "Python 3.9.2 64-bit ('work': conda)"
  },
  "interpreter": {
   "hash": "f669e42020dcbe0110983b84f49315ea95156214cdc1256d3541f61dd3de87e0"
  }
 },
 "nbformat": 4,
 "nbformat_minor": 2,
 "cells": [
  {
   "cell_type": "code",
   "execution_count": 5,
   "metadata": {},
   "outputs": [],
   "source": [
    "import json\n",
    "import requests\n",
    "import pandas as pd\n",
    "import time\n",
    "\n",
    "# Api key is stored in config.json file, as apikey. This simply opens the json file, then sets the key itself to the variable api_key for use later in the api calls\n",
    "\n",
    "with open(\"config.json\") as secret_file:\n",
    "    secrets = json.load(secret_file)\n",
    "\n",
    "VT_key = secrets[\"VTkey\"]\n",
    "Abuse_key = secrets[\"abusekey\"]\n",
    "\n",
    "ip_addys =[\"192.169.69.25\",\"99.174.190.231\"]\n",
    "# ip_addys = [\"192.169.69.25\"]\n",
    "# function to take a list of IP addresses and run them through virustotal and return all of the information available for each as a seperate dictionary in the format of  {ip address : ip address info}\n",
    "def VT_ipCheck(ip_addys):\n",
    "    # defining the headers using my personal api key in a separate doc- all we need is the api key\n",
    "    headers = {\"x-apikey\" : VT_key}\n",
    "    # base api URL\n",
    "    url = \"https://www.virustotal.com/api/v3/ip_addresses/\"\n",
    "\n",
    "    # defining a dictionary to hold all of the info for each IP\n",
    "    VT_dick_list = {}\n",
    "    for ip in ip_addys:\n",
    "        # build the request for each IP in the ip_addys list and get the response as json data\n",
    "        ip_info = requests.get(url + ip, headers=headers).json()\n",
    "        #format the entries to display as {ip address : ip address info}\n",
    "        VT_dick_list[\"{0}\".format(ip)] = ip_info\n",
    "\n",
    "    return VT_dick_list\n",
    "\n",
    "def Abuse_ipCheck(ip_addys):\n",
    "    url = 'https://api.abuseipdb.com/api/v2/check'\n",
    "\n",
    "    headers = {\n",
    "    'Accept': 'application/json',\n",
    "    'Key': Abuse_key\n",
    "    }\n",
    "    abuse_dick_list = {}\n",
    "    for ip in ip_addys:\n",
    "        querystring = {'ipAddress': ip,\n",
    "                        'maxAgeInDays': '365',\n",
    "                        'verbose': \"True\"}\n",
    "        \n",
    "        ip_info = requests.request(method='GET', url=url, headers=headers, params=querystring).json()\n",
    "\n",
    "        abuse_dick_list[\"{0}\".format(ip)] = ip_info\n",
    "        \n",
    "    return abuse_dick_list\n",
    "\n",
    "def comboCheckParse(ip_addys):\n",
    "  \n",
    "    results = []\n",
    "    for ip in ip_addys:\n",
    "        vt_info = VT_ipCheck(ip_addys)\n",
    "        abuse_info = Abuse_ipCheck(ip_addys)\n",
    "\n",
    "        \n",
    "    \n",
    "        engine_count = 0\n",
    "        malicious_count = 0\n",
    "        undetected_count = 0\n",
    "        harmless_count = 0 \n",
    "        engine_list =[]\n",
    "        for engine in vt_info[ip][\"data\"][\"attributes\"][\"last_analysis_results\"]:\n",
    "            engine_count += 1\n",
    "            if vt_info[ip][\"data\"][\"attributes\"][\"last_analysis_results\"][engine][\"category\"] == \"malicious\":\n",
    "                malicious_count += 1\n",
    "                engine_list.append({\"Vendor\": vt_info[ip][\"data\"][\"attributes\"][\"last_analysis_results\"][engine][\"engine_name\"], \"Reason\":vt_info[ip][\"data\"][\"attributes\"][\"last_analysis_results\"][engine][\"result\"]})\n",
    "                \n",
    "            elif vt_info[ip][\"data\"][\"attributes\"][\"last_analysis_results\"][engine][\"category\"] == \"undetected\":\n",
    "                undetected_count += 1\n",
    "\n",
    "            elif vt_info[ip][\"data\"][\"attributes\"][\"last_analysis_results\"][engine][\"category\"] == \"harmless\":\n",
    "                harmless_count += 1\n",
    "\n",
    "        results.append(\n",
    "            f\"{ip}\\n\"\n",
    "            f\"Virus Total Data\\n\"\n",
    "            f\"{malicious_count} Out of {engine_count} Security Vendors Flagged This IP As Malicious\\n\"\n",
    "            f\"Total Engines searched: {engine_count}\\n\"\n",
    "            f\"Number Of Security Vendors That Flagged This IP as Malicious: {malicious_count}\\n\"\n",
    "            f\"Number Of Security Vendors That Flagged This IP as Harmless: {harmless_count}\\n\"\n",
    "            f\"Security Vendors That Flagged As Malicious: {engine_list}\\n\"\n",
    "            f\"-------------------------------\\n\"\n",
    "\n",
    "            f\"Abuse IPDB Data\\n\"\n",
    "            \n",
    "            f\"Number of Reports =  {str(abuse_info[ip]['data']['totalReports'])}\\n\"\n",
    "            f\"Abuse Confidence Score = {str(abuse_info[ip]['data']['abuseConfidenceScore'])}\\n\"\n",
    "            f\"Country = {abuse_info[ip]['data']['countryName']}\\n\"\n",
    "            f\"Country Code = {abuse_info[ip]['data']['countryCode']}\\n\"\n",
    "            f\"ISP =  + {abuse_info[ip]['data']['isp']}\\n\"\n",
    "            f\"Is Public? = {str(abuse_info[ip]['data']['isPublic'])}\\n\"\n",
    "            f\"-------------------------------\\n\"\n",
    "            f\"-------------------------------\\n\"\n",
    "        )\n",
    "    return results"
   ]
  },
  {
   "cell_type": "code",
   "execution_count": 6,
   "metadata": {},
   "outputs": [],
   "source": [
    "analysis = comboCheckParse(ip_addys)"
   ]
  },
  {
   "cell_type": "code",
   "execution_count": 1,
   "metadata": {},
   "outputs": [
    {
     "output_type": "error",
     "ename": "NameError",
     "evalue": "name 'analysis' is not defined",
     "traceback": [
      "\u001b[0;31m---------------------------------------------------------------------------\u001b[0m",
      "\u001b[0;31mNameError\u001b[0m                                 Traceback (most recent call last)",
      "\u001b[0;32m<ipython-input-1-acc35cb7444c>\u001b[0m in \u001b[0;36m<module>\u001b[0;34m\u001b[0m\n\u001b[0;32m----> 1\u001b[0;31m \u001b[0manalysis\u001b[0m\u001b[0;34m\u001b[0m\u001b[0;34m\u001b[0m\u001b[0m\n\u001b[0m",
      "\u001b[0;31mNameError\u001b[0m: name 'analysis' is not defined"
     ]
    }
   ],
   "source": [
    "analysis"
   ]
  },
  {
   "cell_type": "code",
   "execution_count": null,
   "metadata": {},
   "outputs": [],
   "source": []
  }
 ]
}
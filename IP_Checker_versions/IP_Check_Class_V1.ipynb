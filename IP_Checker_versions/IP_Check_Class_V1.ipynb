{
 "metadata": {
  "language_info": {
   "codemirror_mode": {
    "name": "ipython",
    "version": 3
   },
   "file_extension": ".py",
   "mimetype": "text/x-python",
   "name": "python",
   "nbconvert_exporter": "python",
   "pygments_lexer": "ipython3",
   "version": "3.9.2"
  },
  "orig_nbformat": 4,
  "kernelspec": {
   "name": "python3",
   "display_name": "Python 3.9.2 64-bit ('work': conda)"
  },
  "interpreter": {
   "hash": "f669e42020dcbe0110983b84f49315ea95156214cdc1256d3541f61dd3de87e0"
  }
 },
 "nbformat": 4,
 "nbformat_minor": 2,
 "cells": [
  {
   "cell_type": "code",
   "execution_count": 1,
   "metadata": {},
   "outputs": [],
   "source": [
    "import json\n",
    "import requests\n",
    "import pandas as pd\n",
    "import time\n",
    "\n",
    "# Api key is stored in config.json file, as apikey. This simply opens the json file, then sets the key itself to the variable api_key for use later in the api calls\n",
    "\n",
    "with open(\"../config.json\") as secret_file:\n",
    "    secrets = json.load(secret_file)\n",
    "\n",
    "VT_key = secrets[\"VTkey\"]\n",
    "Abuse_key = secrets[\"abusekey\"]\n",
    "\n",
    "ip_addys =[\"192.169.69.25\",\"99.174.190.231\"]"
   ]
  },
  {
   "cell_type": "code",
   "execution_count": 3,
   "metadata": {},
   "outputs": [
    {
     "output_type": "error",
     "ename": "IndentationError",
     "evalue": "expected an indented block (<ipython-input-3-79e90136bf67>, line 2)",
     "traceback": [
      "\u001b[0;36m  File \u001b[0;32m\"<ipython-input-3-79e90136bf67>\"\u001b[0;36m, line \u001b[0;32m2\u001b[0m\n\u001b[0;31m    def __init__(self, data):\u001b[0m\n\u001b[0m                             ^\u001b[0m\n\u001b[0;31mIndentationError\u001b[0m\u001b[0;31m:\u001b[0m expected an indented block\n"
     ]
    }
   ],
   "source": [
    "class virusTotal:\n",
    "    def __init__(self, data):\n",
    "        "
   ]
  },
  {
   "cell_type": "code",
   "execution_count": null,
   "metadata": {},
   "outputs": [],
   "source": []
  }
 ]
}
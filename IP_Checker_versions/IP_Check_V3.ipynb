{
 "metadata": {
  "language_info": {
   "codemirror_mode": {
    "name": "ipython",
    "version": 3
   },
   "file_extension": ".py",
   "mimetype": "text/x-python",
   "name": "python",
   "nbconvert_exporter": "python",
   "pygments_lexer": "ipython3",
   "version": "3.9.2"
  },
  "orig_nbformat": 4,
  "kernelspec": {
   "name": "python3",
   "display_name": "Python 3.9.2 64-bit ('work': conda)"
  },
  "interpreter": {
   "hash": "f669e42020dcbe0110983b84f49315ea95156214cdc1256d3541f61dd3de87e0"
  }
 },
 "nbformat": 4,
 "nbformat_minor": 2,
 "cells": [
  {
   "cell_type": "code",
   "execution_count": 2,
   "metadata": {},
   "outputs": [],
   "source": [
    "import json\n",
    "import requests\n",
    "import pandas as pd\n",
    "import time\n",
    "\n",
    "# Api key is stored in config.json file, as apikey. This simply opens the json file, then sets the key itself to the variable api_key for use later in the api calls\n",
    "\n",
    "with open(\"../config.json\") as secret_file:\n",
    "    secrets = json.load(secret_file)\n",
    "\n",
    "VT_key = secrets[\"VTkey\"]\n",
    "Abuse_key = secrets[\"abusekey\"]"
   ]
  },
  {
   "cell_type": "code",
   "execution_count": 3,
   "metadata": {},
   "outputs": [],
   "source": [
    "ip_addys =[\"192.169.69.25\",\"99.174.190.231\"]"
   ]
  },
  {
   "cell_type": "code",
   "execution_count": 4,
   "metadata": {},
   "outputs": [],
   "source": [
    "# function to take a list of IP addresses and run them through virustotal and return all of the information available for each as a seperate dictionary in the format of  {ip address : ip address info}\n",
    "def VT_ipCheck(ip_addys):\n",
    "    # defining the headers using my personal api key in a separate doc- all we need is the api key\n",
    "    headers = {\"x-apikey\" : VT_key}\n",
    "    # base api URL\n",
    "    url = \"https://www.virustotal.com/api/v3/ip_addresses/\"\n",
    "\n",
    "    # defining a dictionary to hold all of the info for each IP\n",
    "    VT_dick_list = {}\n",
    "    for ip in ip_addys:\n",
    "        # build the request for each IP in the ip_addys list and get the response as json data\n",
    "        ip_info = requests.get(url + ip, headers=headers).json()\n",
    "        #format the entries to display as {ip address : ip address info}\n",
    "        VT_dick_list[\"{0}\".format(ip)] = ip_info\n",
    "\n",
    "    return VT_dick_list"
   ]
  },
  {
   "cell_type": "code",
   "execution_count": 5,
   "metadata": {},
   "outputs": [],
   "source": [
    "def Abuse_ipCheck(ip_addys):\n",
    "    url = 'https://api.abuseipdb.com/api/v2/check'\n",
    "\n",
    "    headers = {\n",
    "    'Accept': 'application/json',\n",
    "    'Key': Abuse_key\n",
    "    }\n",
    "    abuse_dick_list = {}\n",
    "    for ip in ip_addys:\n",
    "        querystring = {'ipAddress': ip,\n",
    "                        'maxAgeInDays': '365',\n",
    "                        'verbose': \"True\"}\n",
    "        \n",
    "        ip_info = requests.request(method='GET', url=url, headers=headers, params=querystring).json()\n",
    "\n",
    "        abuse_dick_list[\"{0}\".format(ip)] = ip_info\n",
    "        \n",
    "    return abuse_dick_list"
   ]
  },
  {
   "cell_type": "code",
   "execution_count": 6,
   "metadata": {},
   "outputs": [],
   "source": [
    "def comboCheck(ip_addys):\n",
    "    info_dick = {}\n",
    "    info_dick[\"abuse_info\"] = Abuse_ipCheck(ip_addys)\n",
    "    info_dick[\"vt_info\"] = VT_ipCheck(ip_addys)\n",
    "    return info_dick"
   ]
  },
  {
   "cell_type": "code",
   "execution_count": 7,
   "metadata": {},
   "outputs": [],
   "source": [
    "combo_info = comboCheck(ip_addys)"
   ]
  },
  {
   "cell_type": "code",
   "execution_count": 10,
   "metadata": {},
   "outputs": [
    {
     "output_type": "stream",
     "name": "stdout",
     "text": [
      "{'abuse_info': {'192.169.69.25': {'data': {'ipAddress': '192.169.69.25', 'isPublic': True, 'ipVersion': 4, 'isWhitelisted': False, 'abuseConfidenceScore': 0, 'countryCode': 'US', 'usageType': 'Data Center/Web Hosting/Transit', 'isp': 'Hyas', 'domain': 'hyas.com', 'hostnames': ['sinkhole.hyas.com'], 'countryName': 'United States', 'totalReports': 2, 'numDistinctUsers': 2, 'lastReportedAt': '2021-06-07T20:14:17+00:00', 'reports': [{'reportedAt': '2021-06-07T20:14:17+00:00', 'comment': 'Darkcomet, Domain: dark12345555.duckdns.org', 'categories': [10, 14, 15], 'reporterId': 41346, 'reporterCountryCode': 'FI', 'reporterCountryName': 'Finland'}, {'reportedAt': '2020-11-23T16:47:18+00:00', 'comment': '2 Attack(s) Detected\\r\\n[DoS Attack: SYN/ACK Scan]\\r\\n\\r\\nPorts:  50002', 'categories': [14], 'reporterId': 21035, 'reporterCountryCode': 'US', 'reporterCountryName': 'United States of America'}]}}, '99.174.190.231': {'data': {'ipAddress': '99.174.190.231', 'isPublic': True, 'ipVersion': 4, 'isWhitelisted': None, 'abuseConfidenceScore': 0, 'countryCode': 'US', 'usageType': None, 'isp': 'AT&T Corp.', 'domain': 'att.com', 'hostnames': ['99-174-190-231.lightspeed.nsvltn.sbcglobal.net'], 'countryName': 'United States of America', 'totalReports': 0, 'numDistinctUsers': 0, 'lastReportedAt': None, 'reports': []}}}, 'vt_info': {'192.169.69.25': {'data': {'attributes': {'regional_internet_registry': 'ARIN', 'network': '192.169.68.0/22', 'tags': [], 'country': 'US', 'as_owner': 'SERVERSTADIUM', 'last_analysis_stats': {'harmless': 67, 'malicious': 9, 'suspicious': 0, 'undetected': 9, 'timeout': 0}, 'asn': 27323, 'whois_date': 1624087868, 'last_analysis_results': {'CMC Threat Intelligence': {'category': 'harmless', 'result': 'clean', 'method': 'blacklist', 'engine_name': 'CMC Threat Intelligence'}, 'CLEAN MX': {'category': 'harmless', 'result': 'clean', 'method': 'blacklist', 'engine_name': 'CLEAN MX'}, 'DNS8': {'category': 'harmless', 'result': 'clean', 'method': 'blacklist', 'engine_name': 'DNS8'}, 'Lionic': {'category': 'harmless', 'result': 'clean', 'method': 'blacklist', 'engine_name': 'Lionic'}, 'Snort IP sample list': {'category': 'harmless', 'result': 'clean', 'method': 'blacklist', 'engine_name': 'Snort IP sample list'}, 'AICC (MONITORAPP)': {'category': 'harmless', 'result': 'clean', 'method': 'blacklist', 'engine_name': 'AICC (MONITORAPP)'}, 'benkow.cc': {'category': 'harmless', 'result': 'clean', 'method': 'blacklist', 'engine_name': 'benkow.cc'}, 'VX Vault': {'category': 'harmless', 'result': 'clean', 'method': 'blacklist', 'engine_name': 'VX Vault'}, 'securolytics': {'category': 'harmless', 'result': 'clean', 'method': 'blacklist', 'engine_name': 'securolytics'}, 'MalwarePatrol': {'category': 'harmless', 'result': 'clean', 'method': 'blacklist', 'engine_name': 'MalwarePatrol'}, 'Armis': {'category': 'harmless', 'result': 'clean', 'method': 'blacklist', 'engine_name': 'Armis'}, 'MalBeacon': {'category': 'harmless', 'result': 'clean', 'method': 'blacklist', 'engine_name': 'MalBeacon'}, 'Comodo Valkyrie Verdict': {'category': 'malicious', 'result': 'phishing', 'method': 'blacklist', 'engine_name': 'Comodo Valkyrie Verdict'}, 'PhishLabs': {'category': 'undetected', 'result': 'unrated', 'method': 'blacklist', 'engine_name': 'PhishLabs'}, 'EmergingThreats': {'category': 'harmless', 'result': 'clean', 'method': 'blacklist', 'engine_name': 'EmergingThreats'}, 'Forcepoint ThreatSeeker': {'category': 'malicious', 'result': 'malicious', 'method': 'blacklist', 'engine_name': 'Forcepoint ThreatSeeker'}, 'K7AntiVirus': {'category': 'harmless', 'result': 'clean', 'method': 'blacklist', 'engine_name': 'K7AntiVirus'}, 'Nucleon': {'category': 'harmless', 'result': 'clean', 'method': 'blacklist', 'engine_name': 'Nucleon'}, 'Virusdie External Site Scan': {'category': 'harmless', 'result': 'clean', 'method': 'blacklist', 'engine_name': 'Virusdie External Site Scan'}, 'CINS Army': {'category': 'harmless', 'result': 'clean', 'method': 'blacklist', 'engine_name': 'CINS Army'}, 'Spamhaus': {'category': 'harmless', 'result': 'clean', 'method': 'blacklist', 'engine_name': 'Spamhaus'}, 'Quttera': {'category': 'harmless', 'result': 'clean', 'method': 'blacklist', 'engine_name': 'Quttera'}, 'Yandex Safebrowsing': {'category': 'harmless', 'result': 'clean', 'method': 'blacklist', 'engine_name': 'Yandex Safebrowsing'}, 'SafeToOpen': {'category': 'undetected', 'result': 'unrated', 'method': 'blacklist', 'engine_name': 'SafeToOpen'}, 'MalwareDomainList': {'category': 'harmless', 'result': 'clean', 'method': 'blacklist', 'engine_name': 'MalwareDomainList'}, 'CyberCrime': {'category': 'harmless', 'result': 'clean', 'method': 'blacklist', 'engine_name': 'CyberCrime'}, 'Lumu': {'category': 'undetected', 'result': 'unrated', 'method': 'blacklist', 'engine_name': 'Lumu'}, 'Google Safebrowsing': {'category': 'harmless', 'result': 'clean', 'method': 'blacklist', 'engine_name': 'Google Safebrowsing'}, 'Kaspersky': {'category': 'undetected', 'result': 'unrated', 'method': 'blacklist', 'engine_name': 'Kaspersky'}, 'BitDefender': {'category': 'harmless', 'result': 'clean', 'method': 'blacklist', 'engine_name': 'BitDefender'}, 'Emsisoft': {'category': 'harmless', 'result': 'clean', 'method': 'blacklist', 'engine_name': 'Emsisoft'}, 'GreenSnow': {'category': 'harmless', 'result': 'clean', 'method': 'blacklist', 'engine_name': 'GreenSnow'}, 'Quick Heal': {'category': 'harmless', 'result': 'clean', 'method': 'blacklist', 'engine_name': 'Quick Heal'}, 'G-Data': {'category': 'harmless', 'result': 'clean', 'method': 'blacklist', 'engine_name': 'G-Data'}, 'Segasec': {'category': 'harmless', 'result': 'clean', 'method': 'blacklist', 'engine_name': 'Segasec'}, 'OpenPhish': {'category': 'harmless', 'result': 'clean', 'method': 'blacklist', 'engine_name': 'OpenPhish'}, 'Sucuri SiteCheck': {'category': 'harmless', 'result': 'clean', 'method': 'blacklist', 'engine_name': 'Sucuri SiteCheck'}, 'AutoShun': {'category': 'undetected', 'result': 'unrated', 'method': 'blacklist', 'engine_name': 'AutoShun'}, 'Trustwave': {'category': 'harmless', 'result': 'clean', 'method': 'blacklist', 'engine_name': 'Trustwave'}, 'Web Security Guard': {'category': 'harmless', 'result': 'clean', 'method': 'blacklist', 'engine_name': 'Web Security Guard'}, 'CyRadar': {'category': 'malicious', 'result': 'malicious', 'method': 'blacklist', 'engine_name': 'CyRadar'}, 'desenmascara.me': {'category': 'harmless', 'result': 'clean', 'method': 'blacklist', 'engine_name': 'desenmascara.me'}, 'ADMINUSLabs': {'category': 'harmless', 'result': 'clean', 'method': 'blacklist', 'engine_name': 'ADMINUSLabs'}, 'Scantitan': {'category': 'harmless', 'result': 'clean', 'method': 'blacklist', 'engine_name': 'Scantitan'}, 'IPsum': {'category': 'harmless', 'result': 'clean', 'method': 'blacklist', 'engine_name': 'IPsum'}, 'Dr.Web': {'category': 'malicious', 'result': 'malicious', 'method': 'blacklist', 'engine_name': 'Dr.Web'}, 'AlienVault': {'category': 'harmless', 'result': 'clean', 'method': 'blacklist', 'engine_name': 'AlienVault'}, 'Sophos': {'category': 'malicious', 'result': 'malware', 'method': 'blacklist', 'engine_name': 'Sophos'}, 'malwares.com URL checker': {'category': 'harmless', 'result': 'clean', 'method': 'blacklist', 'engine_name': 'malwares.com URL checker'}, 'Phishtank': {'category': 'harmless', 'result': 'clean', 'method': 'blacklist', 'engine_name': 'Phishtank'}, 'EonScope': {'category': 'harmless', 'result': 'clean', 'method': 'blacklist', 'engine_name': 'EonScope'}, 'Malwared': {'category': 'harmless', 'result': 'clean', 'method': 'blacklist', 'engine_name': 'Malwared'}, 'Avira': {'category': 'harmless', 'result': 'clean', 'method': 'blacklist', 'engine_name': 'Avira'}, 'NotMining': {'category': 'undetected', 'result': 'unrated', 'method': 'blacklist', 'engine_name': 'NotMining'}, 'Cyan': {'category': 'undetected', 'result': 'unrated', 'method': 'blacklist', 'engine_name': 'Cyan'}, 'Antiy-AVL': {'category': 'harmless', 'result': 'clean', 'method': 'blacklist', 'engine_name': 'Antiy-AVL'}, 'SCUMWARE.org': {'category': 'harmless', 'result': 'clean', 'method': 'blacklist', 'engine_name': 'SCUMWARE.org'}, 'Spam404': {'category': 'harmless', 'result': 'clean', 'method': 'blacklist', 'engine_name': 'Spam404'}, 'MalSilo': {'category': 'harmless', 'result': 'clean', 'method': 'blacklist', 'engine_name': 'MalSilo'}, 'ESTsecurity-Threat Inside': {'category': 'harmless', 'result': 'clean', 'method': 'blacklist', 'engine_name': 'ESTsecurity-Threat Inside'}, 'Certego': {'category': 'harmless', 'result': 'clean', 'method': 'blacklist', 'engine_name': 'Certego'}, 'ESET': {'category': 'malicious', 'result': 'phishing', 'method': 'blacklist', 'engine_name': 'ESET'}, 'Threatsourcing': {'category': 'harmless', 'result': 'clean', 'method': 'blacklist', 'engine_name': 'Threatsourcing'}, 'URLhaus': {'category': 'harmless', 'result': 'clean', 'method': 'blacklist', 'engine_name': 'URLhaus'}, 'SecureBrain': {'category': 'harmless', 'result': 'clean', 'method': 'blacklist', 'engine_name': 'SecureBrain'}, 'Webroot': {'category': 'harmless', 'result': 'clean', 'method': 'blacklist', 'engine_name': 'Webroot'}, 'PREBYTES': {'category': 'harmless', 'result': 'clean', 'method': 'blacklist', 'engine_name': 'PREBYTES'}, 'StopForumSpam': {'category': 'harmless', 'result': 'clean', 'method': 'blacklist', 'engine_name': 'StopForumSpam'}, 'Blueliv': {'category': 'harmless', 'result': 'clean', 'method': 'blacklist', 'engine_name': 'Blueliv'}, 'Hoplite Industries': {'category': 'harmless', 'result': 'clean', 'method': 'blacklist', 'engine_name': 'Hoplite Industries'}, 'Netcraft': {'category': 'undetected', 'result': 'unrated', 'method': 'blacklist', 'engine_name': 'Netcraft'}, 'CRDF': {'category': 'malicious', 'result': 'malicious', 'method': 'blacklist', 'engine_name': 'CRDF'}, 'ThreatHive': {'category': 'harmless', 'result': 'clean', 'method': 'blacklist', 'engine_name': 'ThreatHive'}, 'BADWARE.INFO': {'category': 'harmless', 'result': 'clean', 'method': 'blacklist', 'engine_name': 'BADWARE.INFO'}, 'FraudScore': {'category': 'harmless', 'result': 'clean', 'method': 'blacklist', 'engine_name': 'FraudScore'}, 'Fortinet': {'category': 'malicious', 'result': 'malware', 'method': 'blacklist', 'engine_name': 'Fortinet'}, 'Tencent': {'category': 'harmless', 'result': 'clean', 'method': 'blacklist', 'engine_name': 'Tencent'}, 'StopBadware': {'category': 'undetected', 'result': 'unrated', 'method': 'blacklist', 'engine_name': 'StopBadware'}, 'zvelo': {'category': 'harmless', 'result': 'clean', 'method': 'blacklist', 'engine_name': 'zvelo'}, 'Bfore.Ai PreCrime': {'category': 'harmless', 'result': 'clean', 'method': 'blacklist', 'engine_name': 'Bfore.Ai PreCrime'}, 'ZeroCERT': {'category': 'harmless', 'result': 'clean', 'method': 'blacklist', 'engine_name': 'ZeroCERT'}, 'Baidu-International': {'category': 'harmless', 'result': 'clean', 'method': 'blacklist', 'engine_name': 'Baidu-International'}, 'Phishing Database': {'category': 'harmless', 'result': 'clean', 'method': 'blacklist', 'engine_name': 'Phishing Database'}, 'alphaMountain.ai': {'category': 'malicious', 'result': 'malicious', 'method': 'blacklist', 'engine_name': 'alphaMountain.ai'}}, 'reputation': 0, 'last_modification_date': 1625590525, 'total_votes': {'harmless': 0, 'malicious': 0}, 'continent': 'NA', 'whois': ' Domain Name: HYAS.COM\\r\\n Registry Domain ID: 70195358_DOMAIN_COM-VRSN\\r\\n Registrar WHOIS Server: whois.godaddy.com\\r\\n Registrar URL: http://www.godaddy.com\\r\\n Updated Date: 2020-06-30T22:43:38Z\\r\\n Creation Date: 2001-05-02T04:42:14Z\\r\\n Registry Expiry Date: 2026-05-02T04:42:14Z\\r\\n Registrar: GoDaddy.com, LLC\\r\\n Registrar IANA ID: 146\\r\\n Registrar Abuse Contact Email: abuse@godaddy.com\\r\\n Registrar Abuse Contact Phone: 480-624-2505\\r\\n Domain Status: clientDeleteProhibited https://icann.org/epp#clientDeleteProhibited\\r\\n Domain Status: clientRenewProhibited https://icann.org/epp#clientRenewProhibited\\r\\n Domain Status: clientTransferProhibited https://icann.org/epp#clientTransferProhibited\\r\\n Domain Status: clientUpdateProhibited https://icann.org/epp#clientUpdateProhibited\\r\\n Name Server: NS09.DOMAINCONTROL.COM\\r\\n Name Server: NS10.DOMAINCONTROL.COM\\r\\n DNSSEC: unsigned\\r\\n URL of the ICANN Whois Inaccuracy Complaint Form: https://www.icann.org/wicf/\\r\\n>>> Last update of whois database: 2021-06-19T07:30:48Z <<<\\r\\n\\r\\nFor more information on Whois status codes, please visit https://icann.org/epp\\r\\n\\r\\nNOTICE: The expiration date displayed in this record is the date the\\r\\nregistrar\\'s sponsorship of the domain name registration in the registry is\\r\\ncurrently set to expire. This date does not necessarily reflect the expiration\\r\\ndate of the domain name registrant\\'s agreement with the sponsoring\\r\\nregistrar. Users may consult the sponsoring registrar\\'s Whois database to\\r\\nview the registrar\\'s reported date of expiration for this registration.\\r\\n\\r\\nTERMS OF USE: You are not authorized to access or query our Whois\\r\\ndatabase through the use of electronic processes that are high-volume and\\r\\nautomated except as reasonably necessary to register domain names or\\r\\nmodify existing registrations; the Data in VeriSign Global Registry\\r\\nServices\\' (\"VeriSign\") Whois database is provided by VeriSign for\\r\\ninformation purposes only, and to assist persons in obtaining information\\r\\nabout or related to a domain name registration record. VeriSign does not\\r\\nguarantee its accuracy. By submitting a Whois query, you agree to abide\\r\\nby the following terms of use: You agree that you may use this Data only\\r\\nfor lawful purposes and that under no circumstances will you use this Data\\r\\nto: (1) allow, enable, or otherwise support the transmission of mass\\r\\nunsolicited, commercial advertising or solicitations via e-mail, telephone,\\r\\nor facsimile; or (2) enable high volume, automated, electronic processes\\r\\nthat apply to VeriSign (or its computer systems). The compilation,\\r\\nrepackaging, dissemination or other use of this Data is expressly\\r\\nprohibited without the prior written consent of VeriSign. You agree not to\\r\\nuse electronic processes that are automated and high-volume to access or\\r\\nquery the Whois database except as reasonably necessary to register\\r\\ndomain names or modify existing registrations. VeriSign reserves the right\\r\\nto restrict your access to the Whois database in its sole discretion to ensure\\r\\noperational stability. VeriSign may restrict or terminate your access to the\\r\\nWhois database for failure to abide by these terms of use. VeriSign\\r\\nreserves the right to modify these terms at any time.\\r\\n\\r\\nThe Registry database contains ONLY .COM, .NET, .EDU domains and\\r\\nRegistrars.\\r\\n\\n'}, 'type': 'ip_address', 'id': '192.169.69.25', 'links': {'self': 'https://www.virustotal.com/api/v3/ip_addresses/192.169.69.25'}}}, '99.174.190.231': {'data': {'attributes': {'regional_internet_registry': 'ARIN', 'network': '99.172.0.0/14', 'tags': [], 'country': 'US', 'as_owner': 'ATT-INTERNET4', 'last_analysis_stats': {'harmless': 84, 'malicious': 0, 'suspicious': 0, 'undetected': 0, 'timeout': 0}, 'asn': 7018, 'whois_date': 1625486136, 'last_analysis_results': {'CMC Threat Intelligence': {'category': 'harmless', 'result': 'clean', 'method': 'blacklist', 'engine_name': 'CMC Threat Intelligence'}, 'CLEAN MX': {'category': 'harmless', 'result': 'clean', 'method': 'blacklist', 'engine_name': 'CLEAN MX'}, 'DNS8': {'category': 'harmless', 'result': 'clean', 'method': 'blacklist', 'engine_name': 'DNS8'}, 'Lionic': {'category': 'harmless', 'result': 'clean', 'method': 'blacklist', 'engine_name': 'Lionic'}, 'Snort IP sample list': {'category': 'harmless', 'result': 'clean', 'method': 'blacklist', 'engine_name': 'Snort IP sample list'}, 'AICC (MONITORAPP)': {'category': 'harmless', 'result': 'clean', 'method': 'blacklist', 'engine_name': 'AICC (MONITORAPP)'}, 'benkow.cc': {'category': 'harmless', 'result': 'clean', 'method': 'blacklist', 'engine_name': 'benkow.cc'}, 'VX Vault': {'category': 'harmless', 'result': 'clean', 'method': 'blacklist', 'engine_name': 'VX Vault'}, 'securolytics': {'category': 'harmless', 'result': 'clean', 'method': 'blacklist', 'engine_name': 'securolytics'}, 'MalwarePatrol': {'category': 'harmless', 'result': 'clean', 'method': 'blacklist', 'engine_name': 'MalwarePatrol'}, 'Armis': {'category': 'harmless', 'result': 'clean', 'method': 'blacklist', 'engine_name': 'Armis'}, 'MalBeacon': {'category': 'harmless', 'result': 'clean', 'method': 'blacklist', 'engine_name': 'MalBeacon'}, 'Comodo Valkyrie Verdict': {'category': 'harmless', 'result': 'clean', 'method': 'blacklist', 'engine_name': 'Comodo Valkyrie Verdict'}, 'PhishLabs': {'category': 'harmless', 'result': 'clean', 'method': 'blacklist', 'engine_name': 'PhishLabs'}, 'EmergingThreats': {'category': 'harmless', 'result': 'clean', 'method': 'blacklist', 'engine_name': 'EmergingThreats'}, 'Forcepoint ThreatSeeker': {'category': 'harmless', 'result': 'clean', 'method': 'blacklist', 'engine_name': 'Forcepoint ThreatSeeker'}, 'K7AntiVirus': {'category': 'harmless', 'result': 'clean', 'method': 'blacklist', 'engine_name': 'K7AntiVirus'}, 'Nucleon': {'category': 'harmless', 'result': 'clean', 'method': 'blacklist', 'engine_name': 'Nucleon'}, 'Virusdie External Site Scan': {'category': 'harmless', 'result': 'clean', 'method': 'blacklist', 'engine_name': 'Virusdie External Site Scan'}, 'CINS Army': {'category': 'harmless', 'result': 'clean', 'method': 'blacklist', 'engine_name': 'CINS Army'}, 'Spamhaus': {'category': 'harmless', 'result': 'clean', 'method': 'blacklist', 'engine_name': 'Spamhaus'}, 'Quttera': {'category': 'harmless', 'result': 'clean', 'method': 'blacklist', 'engine_name': 'Quttera'}, 'Yandex Safebrowsing': {'category': 'harmless', 'result': 'clean', 'method': 'blacklist', 'engine_name': 'Yandex Safebrowsing'}, 'SafeToOpen': {'category': 'harmless', 'result': 'clean', 'method': 'blacklist', 'engine_name': 'SafeToOpen'}, 'MalwareDomainList': {'category': 'harmless', 'result': 'clean', 'method': 'blacklist', 'engine_name': 'MalwareDomainList'}, 'CyberCrime': {'category': 'harmless', 'result': 'clean', 'method': 'blacklist', 'engine_name': 'CyberCrime'}, 'Lumu': {'category': 'harmless', 'result': 'clean', 'method': 'blacklist', 'engine_name': 'Lumu'}, 'Google Safebrowsing': {'category': 'harmless', 'result': 'clean', 'method': 'blacklist', 'engine_name': 'Google Safebrowsing'}, 'Kaspersky': {'category': 'harmless', 'result': 'clean', 'method': 'blacklist', 'engine_name': 'Kaspersky'}, 'BitDefender': {'category': 'harmless', 'result': 'clean', 'method': 'blacklist', 'engine_name': 'BitDefender'}, 'Emsisoft': {'category': 'harmless', 'result': 'clean', 'method': 'blacklist', 'engine_name': 'Emsisoft'}, 'GreenSnow': {'category': 'harmless', 'result': 'clean', 'method': 'blacklist', 'engine_name': 'GreenSnow'}, 'Quick Heal': {'category': 'harmless', 'result': 'clean', 'method': 'blacklist', 'engine_name': 'Quick Heal'}, 'G-Data': {'category': 'harmless', 'result': 'clean', 'method': 'blacklist', 'engine_name': 'G-Data'}, 'Segasec': {'category': 'harmless', 'result': 'clean', 'method': 'blacklist', 'engine_name': 'Segasec'}, 'OpenPhish': {'category': 'harmless', 'result': 'clean', 'method': 'blacklist', 'engine_name': 'OpenPhish'}, 'Sucuri SiteCheck': {'category': 'harmless', 'result': 'clean', 'method': 'blacklist', 'engine_name': 'Sucuri SiteCheck'}, 'AutoShun': {'category': 'harmless', 'result': 'clean', 'method': 'blacklist', 'engine_name': 'AutoShun'}, 'Trustwave': {'category': 'harmless', 'result': 'clean', 'method': 'blacklist', 'engine_name': 'Trustwave'}, 'Web Security Guard': {'category': 'harmless', 'result': 'clean', 'method': 'blacklist', 'engine_name': 'Web Security Guard'}, 'CyRadar': {'category': 'harmless', 'result': 'clean', 'method': 'blacklist', 'engine_name': 'CyRadar'}, 'desenmascara.me': {'category': 'harmless', 'result': 'clean', 'method': 'blacklist', 'engine_name': 'desenmascara.me'}, 'ADMINUSLabs': {'category': 'harmless', 'result': 'clean', 'method': 'blacklist', 'engine_name': 'ADMINUSLabs'}, 'Scantitan': {'category': 'harmless', 'result': 'clean', 'method': 'blacklist', 'engine_name': 'Scantitan'}, 'IPsum': {'category': 'harmless', 'result': 'clean', 'method': 'blacklist', 'engine_name': 'IPsum'}, 'Dr.Web': {'category': 'harmless', 'result': 'clean', 'method': 'blacklist', 'engine_name': 'Dr.Web'}, 'AlienVault': {'category': 'harmless', 'result': 'clean', 'method': 'blacklist', 'engine_name': 'AlienVault'}, 'Sophos': {'category': 'harmless', 'result': 'clean', 'method': 'blacklist', 'engine_name': 'Sophos'}, 'malwares.com URL checker': {'category': 'harmless', 'result': 'clean', 'method': 'blacklist', 'engine_name': 'malwares.com URL checker'}, 'Phishtank': {'category': 'harmless', 'result': 'clean', 'method': 'blacklist', 'engine_name': 'Phishtank'}, 'EonScope': {'category': 'harmless', 'result': 'clean', 'method': 'blacklist', 'engine_name': 'EonScope'}, 'Malwared': {'category': 'harmless', 'result': 'clean', 'method': 'blacklist', 'engine_name': 'Malwared'}, 'Avira': {'category': 'harmless', 'result': 'clean', 'method': 'blacklist', 'engine_name': 'Avira'}, 'NotMining': {'category': 'harmless', 'result': 'clean', 'method': 'blacklist', 'engine_name': 'NotMining'}, 'Cyan': {'category': 'harmless', 'result': 'clean', 'method': 'blacklist', 'engine_name': 'Cyan'}, 'Antiy-AVL': {'category': 'harmless', 'result': 'clean', 'method': 'blacklist', 'engine_name': 'Antiy-AVL'}, 'SCUMWARE.org': {'category': 'harmless', 'result': 'clean', 'method': 'blacklist', 'engine_name': 'SCUMWARE.org'}, 'Spam404': {'category': 'harmless', 'result': 'clean', 'method': 'blacklist', 'engine_name': 'Spam404'}, 'MalSilo': {'category': 'harmless', 'result': 'clean', 'method': 'blacklist', 'engine_name': 'MalSilo'}, 'ESTsecurity-Threat Inside': {'category': 'harmless', 'result': 'clean', 'method': 'blacklist', 'engine_name': 'ESTsecurity-Threat Inside'}, 'Certego': {'category': 'harmless', 'result': 'clean', 'method': 'blacklist', 'engine_name': 'Certego'}, 'ESET': {'category': 'harmless', 'result': 'clean', 'method': 'blacklist', 'engine_name': 'ESET'}, 'Threatsourcing': {'category': 'harmless', 'result': 'clean', 'method': 'blacklist', 'engine_name': 'Threatsourcing'}, 'URLhaus': {'category': 'harmless', 'result': 'clean', 'method': 'blacklist', 'engine_name': 'URLhaus'}, 'SecureBrain': {'category': 'harmless', 'result': 'clean', 'method': 'blacklist', 'engine_name': 'SecureBrain'}, 'Webroot': {'category': 'harmless', 'result': 'clean', 'method': 'blacklist', 'engine_name': 'Webroot'}, 'PREBYTES': {'category': 'harmless', 'result': 'clean', 'method': 'blacklist', 'engine_name': 'PREBYTES'}, 'StopForumSpam': {'category': 'harmless', 'result': 'clean', 'method': 'blacklist', 'engine_name': 'StopForumSpam'}, 'Blueliv': {'category': 'harmless', 'result': 'clean', 'method': 'blacklist', 'engine_name': 'Blueliv'}, 'Hoplite Industries': {'category': 'harmless', 'result': 'clean', 'method': 'blacklist', 'engine_name': 'Hoplite Industries'}, 'Netcraft': {'category': 'harmless', 'result': 'clean', 'method': 'blacklist', 'engine_name': 'Netcraft'}, 'CRDF': {'category': 'harmless', 'result': 'clean', 'method': 'blacklist', 'engine_name': 'CRDF'}, 'ThreatHive': {'category': 'harmless', 'result': 'clean', 'method': 'blacklist', 'engine_name': 'ThreatHive'}, 'BADWARE.INFO': {'category': 'harmless', 'result': 'clean', 'method': 'blacklist', 'engine_name': 'BADWARE.INFO'}, 'FraudScore': {'category': 'harmless', 'result': 'clean', 'method': 'blacklist', 'engine_name': 'FraudScore'}, 'Fortinet': {'category': 'harmless', 'result': 'clean', 'method': 'blacklist', 'engine_name': 'Fortinet'}, 'Tencent': {'category': 'harmless', 'result': 'clean', 'method': 'blacklist', 'engine_name': 'Tencent'}, 'StopBadware': {'category': 'harmless', 'result': 'clean', 'method': 'blacklist', 'engine_name': 'StopBadware'}, 'zvelo': {'category': 'harmless', 'result': 'clean', 'method': 'blacklist', 'engine_name': 'zvelo'}, 'Bfore.Ai PreCrime': {'category': 'harmless', 'result': 'clean', 'method': 'blacklist', 'engine_name': 'Bfore.Ai PreCrime'}, 'ZeroCERT': {'category': 'harmless', 'result': 'clean', 'method': 'blacklist', 'engine_name': 'ZeroCERT'}, 'Baidu-International': {'category': 'harmless', 'result': 'clean', 'method': 'blacklist', 'engine_name': 'Baidu-International'}, 'Phishing Database': {'category': 'harmless', 'result': 'clean', 'method': 'blacklist', 'engine_name': 'Phishing Database'}, 'alphaMountain.ai': {'category': 'harmless', 'result': 'clean', 'method': 'blacklist', 'engine_name': 'alphaMountain.ai'}}, 'reputation': 0, 'last_modification_date': 1625486136, 'total_votes': {'harmless': 0, 'malicious': 0}, 'continent': 'NA', 'whois': ' Domain Name: SBCGLOBAL.NET\\r\\n Registry Domain ID: 23479005_DOMAIN_NET-VRSN\\r\\n Registrar WHOIS Server: whois.corporatedomains.com\\r\\n Registrar URL: http://cscdbs.com\\r\\n Updated Date: 2021-04-19T13:40:18Z\\r\\n Creation Date: 2000-03-27T22:23:37Z\\r\\n Registry Expiry Date: 2022-03-27T21:23:37Z\\r\\n Registrar: CSC Corporate Domains, Inc.\\r\\n Registrar IANA ID: 299\\r\\n Registrar Abuse Contact Email: domainabuse@cscglobal.com\\r\\n Registrar Abuse Contact Phone: 8887802723\\r\\n Domain Status: clientTransferProhibited https://icann.org/epp#clientTransferProhibited\\r\\n Domain Status: serverDeleteProhibited https://icann.org/epp#serverDeleteProhibited\\r\\n Domain Status: serverTransferProhibited https://icann.org/epp#serverTransferProhibited\\r\\n Domain Status: serverUpdateProhibited https://icann.org/epp#serverUpdateProhibited\\r\\n Name Server: NS1.ATTDNS.COM\\r\\n Name Server: NS2.ATTDNS.COM\\r\\n Name Server: NS3.ATTDNS.COM\\r\\n Name Server: NS4.ATTDNS.COM\\r\\n DNSSEC: unsigned\\r\\n URL of the ICANN Whois Inaccuracy Complaint Form: https://www.icann.org/wicf/\\r\\n>>> Last update of whois database: 2021-07-05T11:55:06Z <<<\\r\\n\\r\\nFor more information on Whois status codes, please visit https://icann.org/epp\\r\\n\\r\\nNOTICE: The expiration date displayed in this record is the date the\\r\\nregistrar\\'s sponsorship of the domain name registration in the registry is\\r\\ncurrently set to expire. This date does not necessarily reflect the expiration\\r\\ndate of the domain name registrant\\'s agreement with the sponsoring\\r\\nregistrar. Users may consult the sponsoring registrar\\'s Whois database to\\r\\nview the registrar\\'s reported date of expiration for this registration.\\r\\n\\r\\nTERMS OF USE: You are not authorized to access or query our Whois\\r\\ndatabase through the use of electronic processes that are high-volume and\\r\\nautomated except as reasonably necessary to register domain names or\\r\\nmodify existing registrations; the Data in VeriSign Global Registry\\r\\nServices\\' (\"VeriSign\") Whois database is provided by VeriSign for\\r\\ninformation purposes only, and to assist persons in obtaining information\\r\\nabout or related to a domain name registration record. VeriSign does not\\r\\nguarantee its accuracy. By submitting a Whois query, you agree to abide\\r\\nby the following terms of use: You agree that you may use this Data only\\r\\nfor lawful purposes and that under no circumstances will you use this Data\\r\\nto: (1) allow, enable, or otherwise support the transmission of mass\\r\\nunsolicited, commercial advertising or solicitations via e-mail, telephone,\\r\\nor facsimile; or (2) enable high volume, automated, electronic processes\\r\\nthat apply to VeriSign (or its computer systems). The compilation,\\r\\nrepackaging, dissemination or other use of this Data is expressly\\r\\nprohibited without the prior written consent of VeriSign. You agree not to\\r\\nuse electronic processes that are automated and high-volume to access or\\r\\nquery the Whois database except as reasonably necessary to register\\r\\ndomain names or modify existing registrations. VeriSign reserves the right\\r\\nto restrict your access to the Whois database in its sole discretion to ensure\\r\\noperational stability. VeriSign may restrict or terminate your access to the\\r\\nWhois database for failure to abide by these terms of use. VeriSign\\r\\nreserves the right to modify these terms at any time.\\r\\n\\r\\nThe Registry database contains ONLY .COM, .NET, .EDU domains and\\r\\nRegistrars.\\r\\nDomain Name: sbcglobal.net\\nRegistry Domain ID: 23479005_DOMAIN_NET-VRSN\\nRegistrar WHOIS Server: whois.corporatedomains.com\\nRegistrar URL: www.cscprotectsbrands.com\\nUpdated Date: 2021-03-23T01:32:57Z\\nCreation Date: 2000-03-27T17:23:37Z\\nRegistrar Registration Expiration Date: 2022-03-27T21:23:37Z\\nRegistrar: CSC CORPORATE DOMAINS, INC.\\nSponsoring Registrar IANA ID: 299\\nRegistrar Abuse Contact Email: domainabuse@cscglobal.com\\nRegistrar Abuse Contact Phone: +1.8887802723\\nDomain Status: clientTransferProhibited http://www.icann.org/epp#clientTransferProhibited\\nRegistry Registrant ID: \\nRegistrant Name: Domain Administrator\\nRegistrant Organization: AT&T SERVICES, INC.\\nRegistrant Street: 801 Chestnut Street\\nRegistrant City: Saint Louis\\nRegistrant State/Province: MO\\nRegistrant Postal Code: 63101\\nRegistrant Country: US\\nRegistrant Phone: +1.3142358168\\nRegistrant Phone Ext: \\nRegistrant Fax: +1.3142358168\\nRegistrant Fax Ext: \\nRegistrant Email: att-domains@att.com\\nRegistry Admin ID: \\nAdmin Name: Domain Administrator\\nAdmin Organization: AT&T SERVICES, INC.\\nAdmin Street: 801 Chestnut Street\\nAdmin City: Saint Louis\\nAdmin State/Province: MO\\nAdmin Postal Code: 63101\\nAdmin Country: US\\nAdmin Phone: +1.3142358168\\nAdmin Phone Ext: \\nAdmin Fax: +1.3142358168\\nAdmin Fax Ext: \\nAdmin Email: att-domains@att.com\\nRegistry Tech ID: \\nTech Name: Domain Administrator\\nTech Organization: AT&T SERVICES, INC.\\nTech Street: 801 Chestnut Street\\nTech City: Saint Louis\\nTech State/Province: MO\\nTech Postal Code: 63101\\nTech Country: US\\nTech Phone: +1.3142358168\\nTech Phone Ext: \\nTech Fax: +1.3142358168\\nTech Fax Ext: \\nTech Email: att-domains@att.com\\nName Server: ns2.attdns.com\\nName Server: ns1.attdns.com\\nName Server: ns3.attdns.com\\nName Server: ns4.attdns.com\\nDNSSEC: unsigned\\nURL of the ICANN WHOIS Data Problem Reporting System: http://wdprs.internic.net/\\n>>> Last update of WHOIS database: 2021-03-23T01:32:57Z <<<\\nFor more information on Whois status codes, please visit https://icann.org/epp\\nCorporation Service Company(c) (CSC) The Trusted Partner of More than 50% of the 100 Best Global Brands.\\nContact us to learn more about our enterprise solutions for Global Domain Name Registration and Management, Trademark Research and Watching, Brand, Logo and Auction Monitoring, as well SSL Certificate Services and DNS Hosting.\\nNOTICE: You are not authorized to access or query our WHOIS database through the use of high-volume, automated, electronic processes or for the purpose or purposes of using the data in any manner that violates these terms of use. The Data in the CSC WHOIS database is provided by CSC for information purposes only, and to assist persons in obtaining information about or related to a domain name registration record. CSC does not guarantee its accuracy. By submitting a WHOIS query, you agree to abide by the following terms of use: you agree that you may use this Data only for lawful purposes and that under no circumstances will you use this Data to: (1) allow, enable, or otherwise support the transmission of mass unsolicited, commercial advertising or solicitations via direct mail, e-mail, telephone, or facsimile; or (2) enable high volume, automated, electronic processes that apply to CSC (or its computer systems). CSC reserves the right to terminate your access to the WHOIS database in its sole discretion for any violations by you of these terms of use. CSC reserves the right to modify these terms at any time.\\nRegister your domain name at http://www.cscglobal.com\\n'}, 'type': 'ip_address', 'id': '99.174.190.231', 'links': {'self': 'https://www.virustotal.com/api/v3/ip_addresses/99.174.190.231'}}}}}\n"
     ]
    }
   ],
   "source": [
    "print(combo_info)"
   ]
  },
  {
   "cell_type": "code",
   "execution_count": 8,
   "metadata": {},
   "outputs": [],
   "source": [
    "for ip in ip_addys:\n",
    "    vt_info = combo_info['vt_info']\n",
    "    abuse_info = combo_info['abuse_info']\n"
   ]
  },
  {
   "cell_type": "code",
   "execution_count": 9,
   "metadata": {},
   "outputs": [
    {
     "output_type": "stream",
     "name": "stdout",
     "text": [
      "192.169.69.25\nVirus Total Data\n9 Out of 84 Security Vendors Flagged This IP As Malicious\nTotal Engines searched: 84\nNumber Of Security Vendors That Flagged This IP as Malicious: 9\nNumber Of Security Vendors That Flagged This IP as Harmless: 66\nSecurity Vendors That Flagged As Malicious: [{'Vendor': 'Comodo Valkyrie Verdict', 'Reason': 'phishing'}, {'Vendor': 'Forcepoint ThreatSeeker', 'Reason': 'malicious'}, {'Vendor': 'CyRadar', 'Reason': 'malicious'}, {'Vendor': 'Dr.Web', 'Reason': 'malicious'}, {'Vendor': 'Sophos', 'Reason': 'malware'}, {'Vendor': 'ESET', 'Reason': 'phishing'}, {'Vendor': 'CRDF', 'Reason': 'malicious'}, {'Vendor': 'Fortinet', 'Reason': 'malware'}, {'Vendor': 'alphaMountain.ai', 'Reason': 'malicious'}]\n-------------------------------\nAbuse IPDB Data\nNumber of Reports = 2\nAbuse Confidence Score = 0\nCountry = United States\nCountry Code= US\nISP = Hyas\nIs Public? = True\n-------------------------------\n-------------------------------\n99.174.190.231\nVirus Total Data\n0 Out of 84 Security Vendors Flagged This IP As Malicious\nTotal Engines searched: 84\nNumber Of Security Vendors That Flagged This IP as Malicious: 0\nNumber Of Security Vendors That Flagged This IP as Harmless: 84\nSecurity Vendors That Flagged As Malicious: []\n-------------------------------\nAbuse IPDB Data\nNumber of Reports = 0\nAbuse Confidence Score = 0\nCountry = United States of America\nCountry Code= US\nISP = AT&T Corp.\nIs Public? = True\n-------------------------------\n-------------------------------\n"
     ]
    }
   ],
   "source": [
    "for ip in ip_addys:\n",
    "    print(ip)\n",
    "    print(\"Virus Total Data\")\n",
    " \n",
    "    engine_count = 0\n",
    "    malicious_count = 0\n",
    "    undetected_count = 0\n",
    "    harmless_count = 0 \n",
    "    engine_list =[]\n",
    "    for engine in vt_info[ip][\"data\"][\"attributes\"][\"last_analysis_results\"]:\n",
    "        engine_count += 1\n",
    "        if vt_info[ip][\"data\"][\"attributes\"][\"last_analysis_results\"][engine][\"category\"] == \"malicious\":\n",
    "            malicious_count += 1\n",
    "            engine_list.append({\"Vendor\": vt_info[ip][\"data\"][\"attributes\"][\"last_analysis_results\"][engine][\"engine_name\"], \"Reason\":vt_info[ip][\"data\"][\"attributes\"][\"last_analysis_results\"][engine][\"result\"]})\n",
    "            \n",
    "        elif vt_info[ip][\"data\"][\"attributes\"][\"last_analysis_results\"][engine][\"category\"] == \"undetected\":\n",
    "            undetected_count += 1\n",
    "\n",
    "        elif vt_info[ip][\"data\"][\"attributes\"][\"last_analysis_results\"][engine][\"category\"] == \"harmless\":\n",
    "            harmless_count += 1\n",
    "  \n",
    "    print(f\"{malicious_count} Out of {engine_count} Security Vendors Flagged This IP As Malicious\")\n",
    "    print(f\"Total Engines searched: {engine_count}\")\n",
    "    print(f\"Number Of Security Vendors That Flagged This IP as Malicious: {malicious_count}\")\n",
    "    print(f\"Number Of Security Vendors That Flagged This IP as Harmless: {harmless_count}\")\n",
    "    print(f\"Security Vendors That Flagged As Malicious: {engine_list}\")\n",
    "    print(\"-------------------------------\")\n",
    "\n",
    "    print(\"Abuse IPDB Data\")\n",
    "    # print(ip)\n",
    "    print(\"Number of Reports = \" + str(abuse_info[ip][\"data\"]['totalReports']))\n",
    "    print(\"Abuse Confidence Score = \" + str(abuse_info[ip][\"data\"][\"abuseConfidenceScore\"]))\n",
    "    print(\"Country = \" + abuse_info[ip][\"data\"]['countryName'])\n",
    "    print(\"Country Code= \" + abuse_info[ip][\"data\"]['countryCode'])\n",
    "    print(\"ISP = \" + abuse_info[ip][\"data\"]['isp'])\n",
    "    print(\"Is Public? = \" + str(abuse_info[ip][\"data\"]['isPublic']))\n",
    "    print(\"-------------------------------\")\n",
    "    print(\"-------------------------------\")\n"
   ]
  },
  {
   "cell_type": "code",
   "execution_count": null,
   "metadata": {},
   "outputs": [],
   "source": []
  }
 ]
}
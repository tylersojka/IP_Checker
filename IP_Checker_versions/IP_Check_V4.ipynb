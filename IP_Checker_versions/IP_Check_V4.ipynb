{
 "metadata": {
  "language_info": {
   "codemirror_mode": {
    "name": "ipython",
    "version": 3
   },
   "file_extension": ".py",
   "mimetype": "text/x-python",
   "name": "python",
   "nbconvert_exporter": "python",
   "pygments_lexer": "ipython3",
   "version": "3.9.2"
  },
  "orig_nbformat": 4,
  "kernelspec": {
   "name": "python3",
   "display_name": "Python 3.9.2 64-bit ('work': conda)"
  },
  "interpreter": {
   "hash": "f669e42020dcbe0110983b84f49315ea95156214cdc1256d3541f61dd3de87e0"
  }
 },
 "nbformat": 4,
 "nbformat_minor": 2,
 "cells": [
  {
   "cell_type": "code",
   "execution_count": 1,
   "metadata": {},
   "outputs": [],
   "source": [
    "import json\n",
    "import requests\n",
    "import pandas as pd\n",
    "import time\n",
    "\n",
    "# Api key is stored in config.json file, as apikey. This simply opens the json file, then sets the key itself to the variable api_key for use later in the api calls\n",
    "\n",
    "with open(\"config.json\") as secret_file:\n",
    "    secrets = json.load(secret_file)\n",
    "\n",
    "VT_key = secrets[\"VTkey\"]\n",
    "Abuse_key = secrets[\"abusekey\"]\n",
    "\n",
    "ip_addys =[\"192.169.69.25\",\"99.174.190.231\"]\n"
   ]
  },
  {
   "cell_type": "code",
   "execution_count": 2,
   "metadata": {},
   "outputs": [],
   "source": [
    "# function to take a list of IP addresses and run them through virustotal and return all of the information available for each as a seperate dictionary in the format of  {ip address : ip address info}\n",
    "def VT_ipCheck(ip_addys):\n",
    "    # defining the headers using my personal api key in a separate doc- all we need is the api key\n",
    "    headers = {\"x-apikey\" : VT_key}\n",
    "    # base api URL\n",
    "    url = \"https://www.virustotal.com/api/v3/ip_addresses/\"\n",
    "\n",
    "    # defining a dictionary to hold all of the info for each IP\n",
    "    VT_dick_list = {}\n",
    "    for ip in ip_addys:\n",
    "        # build the request for each IP in the ip_addys list and get the response as json data\n",
    "        ip_info = requests.get(url + ip, headers=headers).json()\n",
    "        #format the entries to display as {ip address : ip address info}\n",
    "        VT_dick_list[\"{0}\".format(ip)] = ip_info\n",
    "\n",
    "    return VT_dick_list"
   ]
  },
  {
   "cell_type": "code",
   "execution_count": 3,
   "metadata": {},
   "outputs": [],
   "source": [
    "def Abuse_ipCheck(ip_addys):\n",
    "    url = 'https://api.abuseipdb.com/api/v2/check'\n",
    "\n",
    "    headers = {\n",
    "    'Accept': 'application/json',\n",
    "    'Key': Abuse_key\n",
    "    }\n",
    "    abuse_dick_list = {}\n",
    "    for ip in ip_addys:\n",
    "        querystring = {'ipAddress': ip,\n",
    "                        'maxAgeInDays': '365',\n",
    "                        'verbose': \"True\"}\n",
    "        \n",
    "        ip_info = requests.request(method='GET', url=url, headers=headers, params=querystring).json()\n",
    "\n",
    "        abuse_dick_list[\"{0}\".format(ip)] = ip_info\n",
    "        \n",
    "    return abuse_dick_list"
   ]
  },
  {
   "cell_type": "code",
   "execution_count": 4,
   "metadata": {},
   "outputs": [],
   "source": [
    "def comboCheckParse(ip_addys):\n",
    "\n",
    "    for ip in ip_addys:\n",
    "        vt_info = VT_ipCheck(ip_addys)\n",
    "        abuse_info = Abuse_ipCheck(ip_addys)\n",
    "\n",
    "        print(ip)\n",
    "        print(\"Virus Total Data\")\n",
    "    \n",
    "        engine_count = 0\n",
    "        malicious_count = 0\n",
    "        undetected_count = 0\n",
    "        harmless_count = 0 \n",
    "        engine_list =[]\n",
    "        for engine in vt_info[ip][\"data\"][\"attributes\"][\"last_analysis_results\"]:\n",
    "            engine_count += 1\n",
    "            if vt_info[ip][\"data\"][\"attributes\"][\"last_analysis_results\"][engine][\"category\"] == \"malicious\":\n",
    "                malicious_count += 1\n",
    "                engine_list.append({\"Vendor\": vt_info[ip][\"data\"][\"attributes\"][\"last_analysis_results\"][engine][\"engine_name\"], \"Reason\":vt_info[ip][\"data\"][\"attributes\"][\"last_analysis_results\"][engine][\"result\"]})\n",
    "                \n",
    "            elif vt_info[ip][\"data\"][\"attributes\"][\"last_analysis_results\"][engine][\"category\"] == \"undetected\":\n",
    "                undetected_count += 1\n",
    "\n",
    "            elif vt_info[ip][\"data\"][\"attributes\"][\"last_analysis_results\"][engine][\"category\"] == \"harmless\":\n",
    "                harmless_count += 1\n",
    "    \n",
    "        print(f\"{malicious_count} Out of {engine_count} Security Vendors Flagged This IP As Malicious\")\n",
    "        print(f\"Total Engines searched: {engine_count}\")\n",
    "        print(f\"Number Of Security Vendors That Flagged This IP as Malicious: {malicious_count}\")\n",
    "        print(f\"Number Of Security Vendors That Flagged This IP as Harmless: {harmless_count}\")\n",
    "        print(f\"Security Vendors That Flagged As Malicious: {engine_list}\")\n",
    "        print(\"-------------------------------\")\n",
    "\n",
    "        print(\"Abuse IPDB Data\")\n",
    "        # print(ip)\n",
    "        print(\"Number of Reports = \" + str(abuse_info[ip][\"data\"]['totalReports']))\n",
    "        print(\"Abuse Confidence Score = \" + str(abuse_info[ip][\"data\"][\"abuseConfidenceScore\"]))\n",
    "        print(\"Country = \" + abuse_info[ip][\"data\"]['countryName'])\n",
    "        print(\"Country Code= \" + abuse_info[ip][\"data\"]['countryCode'])\n",
    "        print(\"ISP = \" + abuse_info[ip][\"data\"]['isp'])\n",
    "        print(\"Is Public? = \" + str(abuse_info[ip][\"data\"]['isPublic']))\n",
    "        print(\"-------------------------------\")\n",
    "        print(\"-------------------------------\")"
   ]
  },
  {
   "cell_type": "code",
   "execution_count": 5,
   "metadata": {},
   "outputs": [
    {
     "output_type": "stream",
     "name": "stdout",
     "text": [
      "192.169.69.25\n",
      "Virus Total Data\n",
      "10 Out of 84 Security Vendors Flagged This IP As Malicious\n",
      "Total Engines searched: 84\n",
      "Number Of Security Vendors That Flagged This IP as Malicious: 10\n",
      "Number Of Security Vendors That Flagged This IP as Harmless: 65\n",
      "Security Vendors That Flagged As Malicious: [{'Vendor': 'Comodo Valkyrie Verdict', 'Reason': 'phishing'}, {'Vendor': 'Forcepoint ThreatSeeker', 'Reason': 'malicious'}, {'Vendor': 'AegisLab WebGuard', 'Reason': 'malicious'}, {'Vendor': 'CyRadar', 'Reason': 'malicious'}, {'Vendor': 'Dr.Web', 'Reason': 'malicious'}, {'Vendor': 'Sophos', 'Reason': 'malware'}, {'Vendor': 'ESET', 'Reason': 'phishing'}, {'Vendor': 'CRDF', 'Reason': 'malicious'}, {'Vendor': 'Fortinet', 'Reason': 'malware'}, {'Vendor': 'alphaMountain.ai', 'Reason': 'malicious'}]\n",
      "-------------------------------\n",
      "Abuse IPDB Data\n",
      "Number of Reports = 2\n",
      "Abuse Confidence Score = 0\n",
      "Country = United States\n",
      "Country Code= US\n",
      "ISP = Hyas\n",
      "Is Public? = True\n",
      "-------------------------------\n",
      "-------------------------------\n",
      "99.174.190.231\n",
      "Virus Total Data\n",
      "0 Out of 84 Security Vendors Flagged This IP As Malicious\n",
      "Total Engines searched: 84\n",
      "Number Of Security Vendors That Flagged This IP as Malicious: 0\n",
      "Number Of Security Vendors That Flagged This IP as Harmless: 84\n",
      "Security Vendors That Flagged As Malicious: []\n",
      "-------------------------------\n",
      "Abuse IPDB Data\n",
      "Number of Reports = 0\n",
      "Abuse Confidence Score = 0\n",
      "Country = United States of America\n",
      "Country Code= US\n",
      "ISP = AT&T Corp.\n",
      "Is Public? = True\n",
      "-------------------------------\n",
      "-------------------------------\n"
     ]
    }
   ],
   "source": [
    "comboCheckParse(ip_addys)"
   ]
  },
  {
   "cell_type": "code",
   "execution_count": null,
   "metadata": {},
   "outputs": [],
   "source": []
  }
 ]
}